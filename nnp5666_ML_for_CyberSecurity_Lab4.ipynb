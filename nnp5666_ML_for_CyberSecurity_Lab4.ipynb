{
 "cells": [
  {
   "cell_type": "markdown",
   "metadata": {
    "id": "bbfeg-QfbntI"
   },
   "source": [
    "# LAB 3 \n",
    "NAME: Noel Nebu Panicker\n",
    "\n",
    "NetId: nnp5666"
   ]
  },
  {
   "cell_type": "markdown",
   "metadata": {
    "id": "Bu0JWmVYbntJ"
   },
   "source": [
    "# Installing essential packages"
   ]
  },
  {
   "cell_type": "code",
   "execution_count": 1,
   "metadata": {
    "id": "f9XReUuLbntJ",
    "outputId": "554c1f9e-f4d2-46dd-9e5f-bcb3c9f72651"
   },
   "outputs": [
    {
     "name": "stdout",
     "output_type": "stream",
     "text": [
      "Requirement already satisfied: tensorflow in ./myenv311/lib/python3.11/site-packages (2.15.0)\n",
      "Requirement already satisfied: tensorflow-macos==2.15.0 in ./myenv311/lib/python3.11/site-packages (from tensorflow) (2.15.0)\n",
      "Requirement already satisfied: absl-py>=1.0.0 in ./myenv311/lib/python3.11/site-packages (from tensorflow-macos==2.15.0->tensorflow) (2.0.0)\n",
      "Requirement already satisfied: astunparse>=1.6.0 in ./myenv311/lib/python3.11/site-packages (from tensorflow-macos==2.15.0->tensorflow) (1.6.3)\n",
      "Requirement already satisfied: flatbuffers>=23.5.26 in ./myenv311/lib/python3.11/site-packages (from tensorflow-macos==2.15.0->tensorflow) (23.5.26)\n",
      "Requirement already satisfied: gast!=0.5.0,!=0.5.1,!=0.5.2,>=0.2.1 in ./myenv311/lib/python3.11/site-packages (from tensorflow-macos==2.15.0->tensorflow) (0.5.4)\n",
      "Requirement already satisfied: google-pasta>=0.1.1 in ./myenv311/lib/python3.11/site-packages (from tensorflow-macos==2.15.0->tensorflow) (0.2.0)\n",
      "Requirement already satisfied: h5py>=2.9.0 in ./myenv311/lib/python3.11/site-packages (from tensorflow-macos==2.15.0->tensorflow) (3.10.0)\n",
      "Requirement already satisfied: libclang>=13.0.0 in ./myenv311/lib/python3.11/site-packages (from tensorflow-macos==2.15.0->tensorflow) (16.0.6)\n",
      "Requirement already satisfied: ml-dtypes~=0.2.0 in ./myenv311/lib/python3.11/site-packages (from tensorflow-macos==2.15.0->tensorflow) (0.2.0)\n",
      "Requirement already satisfied: numpy<2.0.0,>=1.23.5 in ./myenv311/lib/python3.11/site-packages (from tensorflow-macos==2.15.0->tensorflow) (1.26.2)\n",
      "Requirement already satisfied: opt-einsum>=2.3.2 in ./myenv311/lib/python3.11/site-packages (from tensorflow-macos==2.15.0->tensorflow) (3.3.0)\n",
      "Requirement already satisfied: packaging in ./myenv311/lib/python3.11/site-packages (from tensorflow-macos==2.15.0->tensorflow) (23.2)\n",
      "Requirement already satisfied: protobuf!=4.21.0,!=4.21.1,!=4.21.2,!=4.21.3,!=4.21.4,!=4.21.5,<5.0.0dev,>=3.20.3 in ./myenv311/lib/python3.11/site-packages (from tensorflow-macos==2.15.0->tensorflow) (4.23.4)\n",
      "Requirement already satisfied: setuptools in ./myenv311/lib/python3.11/site-packages (from tensorflow-macos==2.15.0->tensorflow) (65.5.0)\n",
      "Requirement already satisfied: six>=1.12.0 in ./myenv311/lib/python3.11/site-packages (from tensorflow-macos==2.15.0->tensorflow) (1.16.0)\n",
      "Requirement already satisfied: termcolor>=1.1.0 in ./myenv311/lib/python3.11/site-packages (from tensorflow-macos==2.15.0->tensorflow) (2.4.0)\n",
      "Requirement already satisfied: typing-extensions>=3.6.6 in ./myenv311/lib/python3.11/site-packages (from tensorflow-macos==2.15.0->tensorflow) (4.8.0)\n",
      "Requirement already satisfied: wrapt<1.15,>=1.11.0 in ./myenv311/lib/python3.11/site-packages (from tensorflow-macos==2.15.0->tensorflow) (1.14.1)\n",
      "Requirement already satisfied: tensorflow-io-gcs-filesystem>=0.23.1 in ./myenv311/lib/python3.11/site-packages (from tensorflow-macos==2.15.0->tensorflow) (0.34.0)\n",
      "Requirement already satisfied: grpcio<2.0,>=1.24.3 in ./myenv311/lib/python3.11/site-packages (from tensorflow-macos==2.15.0->tensorflow) (1.59.3)\n",
      "Requirement already satisfied: tensorboard<2.16,>=2.15 in ./myenv311/lib/python3.11/site-packages (from tensorflow-macos==2.15.0->tensorflow) (2.15.1)\n",
      "Requirement already satisfied: tensorflow-estimator<2.16,>=2.15.0 in ./myenv311/lib/python3.11/site-packages (from tensorflow-macos==2.15.0->tensorflow) (2.15.0)\n",
      "Requirement already satisfied: keras<2.16,>=2.15.0 in ./myenv311/lib/python3.11/site-packages (from tensorflow-macos==2.15.0->tensorflow) (2.15.0)\n",
      "Requirement already satisfied: wheel<1.0,>=0.23.0 in ./myenv311/lib/python3.11/site-packages (from astunparse>=1.6.0->tensorflow-macos==2.15.0->tensorflow) (0.42.0)\n",
      "Requirement already satisfied: google-auth<3,>=1.6.3 in ./myenv311/lib/python3.11/site-packages (from tensorboard<2.16,>=2.15->tensorflow-macos==2.15.0->tensorflow) (2.24.0)\n",
      "Requirement already satisfied: google-auth-oauthlib<2,>=0.5 in ./myenv311/lib/python3.11/site-packages (from tensorboard<2.16,>=2.15->tensorflow-macos==2.15.0->tensorflow) (1.1.0)\n",
      "Requirement already satisfied: markdown>=2.6.8 in ./myenv311/lib/python3.11/site-packages (from tensorboard<2.16,>=2.15->tensorflow-macos==2.15.0->tensorflow) (3.5.1)\n",
      "Requirement already satisfied: requests<3,>=2.21.0 in ./myenv311/lib/python3.11/site-packages (from tensorboard<2.16,>=2.15->tensorflow-macos==2.15.0->tensorflow) (2.31.0)\n",
      "Requirement already satisfied: tensorboard-data-server<0.8.0,>=0.7.0 in ./myenv311/lib/python3.11/site-packages (from tensorboard<2.16,>=2.15->tensorflow-macos==2.15.0->tensorflow) (0.7.2)\n",
      "Requirement already satisfied: werkzeug>=1.0.1 in ./myenv311/lib/python3.11/site-packages (from tensorboard<2.16,>=2.15->tensorflow-macos==2.15.0->tensorflow) (3.0.1)\n",
      "Requirement already satisfied: cachetools<6.0,>=2.0.0 in ./myenv311/lib/python3.11/site-packages (from google-auth<3,>=1.6.3->tensorboard<2.16,>=2.15->tensorflow-macos==2.15.0->tensorflow) (5.3.2)\n",
      "Requirement already satisfied: pyasn1-modules>=0.2.1 in ./myenv311/lib/python3.11/site-packages (from google-auth<3,>=1.6.3->tensorboard<2.16,>=2.15->tensorflow-macos==2.15.0->tensorflow) (0.3.0)\n",
      "Requirement already satisfied: rsa<5,>=3.1.4 in ./myenv311/lib/python3.11/site-packages (from google-auth<3,>=1.6.3->tensorboard<2.16,>=2.15->tensorflow-macos==2.15.0->tensorflow) (4.9)\n",
      "Requirement already satisfied: requests-oauthlib>=0.7.0 in ./myenv311/lib/python3.11/site-packages (from google-auth-oauthlib<2,>=0.5->tensorboard<2.16,>=2.15->tensorflow-macos==2.15.0->tensorflow) (1.3.1)\n",
      "Requirement already satisfied: charset-normalizer<4,>=2 in ./myenv311/lib/python3.11/site-packages (from requests<3,>=2.21.0->tensorboard<2.16,>=2.15->tensorflow-macos==2.15.0->tensorflow) (3.3.2)\n",
      "Requirement already satisfied: idna<4,>=2.5 in ./myenv311/lib/python3.11/site-packages (from requests<3,>=2.21.0->tensorboard<2.16,>=2.15->tensorflow-macos==2.15.0->tensorflow) (3.6)\n",
      "Requirement already satisfied: urllib3<3,>=1.21.1 in ./myenv311/lib/python3.11/site-packages (from requests<3,>=2.21.0->tensorboard<2.16,>=2.15->tensorflow-macos==2.15.0->tensorflow) (2.1.0)\n",
      "Requirement already satisfied: certifi>=2017.4.17 in ./myenv311/lib/python3.11/site-packages (from requests<3,>=2.21.0->tensorboard<2.16,>=2.15->tensorflow-macos==2.15.0->tensorflow) (2023.11.17)\n",
      "Requirement already satisfied: MarkupSafe>=2.1.1 in ./myenv311/lib/python3.11/site-packages (from werkzeug>=1.0.1->tensorboard<2.16,>=2.15->tensorflow-macos==2.15.0->tensorflow) (2.1.3)\n",
      "Requirement already satisfied: pyasn1<0.6.0,>=0.4.6 in ./myenv311/lib/python3.11/site-packages (from pyasn1-modules>=0.2.1->google-auth<3,>=1.6.3->tensorboard<2.16,>=2.15->tensorflow-macos==2.15.0->tensorflow) (0.5.1)\n",
      "Requirement already satisfied: oauthlib>=3.0.0 in ./myenv311/lib/python3.11/site-packages (from requests-oauthlib>=0.7.0->google-auth-oauthlib<2,>=0.5->tensorboard<2.16,>=2.15->tensorflow-macos==2.15.0->tensorflow) (3.2.2)\n",
      "\n",
      "\u001b[1m[\u001b[0m\u001b[34;49mnotice\u001b[0m\u001b[1;39;49m]\u001b[0m\u001b[39;49m A new release of pip is available: \u001b[0m\u001b[31;49m23.2.1\u001b[0m\u001b[39;49m -> \u001b[0m\u001b[32;49m23.3.1\u001b[0m\n",
      "\u001b[1m[\u001b[0m\u001b[34;49mnotice\u001b[0m\u001b[1;39;49m]\u001b[0m\u001b[39;49m To update, run: \u001b[0m\u001b[32;49mpip install --upgrade pip\u001b[0m\n"
     ]
    }
   ],
   "source": [
    "!pip install tensorflow\n"
   ]
  },
  {
   "cell_type": "code",
   "execution_count": 2,
   "metadata": {
    "id": "r1Ko1EX6bntK",
    "outputId": "9175bbc4-2aec-43cd-be21-439e561ebd0b"
   },
   "outputs": [
    {
     "name": "stdout",
     "output_type": "stream",
     "text": [
      "Requirement already satisfied: h5py in ./myenv311/lib/python3.11/site-packages (3.10.0)\n",
      "Requirement already satisfied: numpy>=1.17.3 in ./myenv311/lib/python3.11/site-packages (from h5py) (1.26.2)\n",
      "\n",
      "\u001b[1m[\u001b[0m\u001b[34;49mnotice\u001b[0m\u001b[1;39;49m]\u001b[0m\u001b[39;49m A new release of pip is available: \u001b[0m\u001b[31;49m23.2.1\u001b[0m\u001b[39;49m -> \u001b[0m\u001b[32;49m23.3.1\u001b[0m\n",
      "\u001b[1m[\u001b[0m\u001b[34;49mnotice\u001b[0m\u001b[1;39;49m]\u001b[0m\u001b[39;49m To update, run: \u001b[0m\u001b[32;49mpip install --upgrade pip\u001b[0m\n",
      "Note: you may need to restart the kernel to use updated packages.\n"
     ]
    }
   ],
   "source": [
    "%pip install h5py"
   ]
  },
  {
   "cell_type": "code",
   "execution_count": 3,
   "metadata": {
    "id": "YFdANiuNbntL",
    "outputId": "57d5ef79-72de-4b65-84fa-df1b8b82e1c4"
   },
   "outputs": [
    {
     "name": "stdout",
     "output_type": "stream",
     "text": [
      "Requirement already satisfied: tqdm in ./myenv311/lib/python3.11/site-packages (4.66.1)\n",
      "\n",
      "\u001b[1m[\u001b[0m\u001b[34;49mnotice\u001b[0m\u001b[1;39;49m]\u001b[0m\u001b[39;49m A new release of pip is available: \u001b[0m\u001b[31;49m23.2.1\u001b[0m\u001b[39;49m -> \u001b[0m\u001b[32;49m23.3.1\u001b[0m\n",
      "\u001b[1m[\u001b[0m\u001b[34;49mnotice\u001b[0m\u001b[1;39;49m]\u001b[0m\u001b[39;49m To update, run: \u001b[0m\u001b[32;49mpip install --upgrade pip\u001b[0m\n",
      "Note: you may need to restart the kernel to use updated packages.\n"
     ]
    }
   ],
   "source": [
    "%pip install tqdm"
   ]
  },
  {
   "cell_type": "code",
   "execution_count": 4,
   "metadata": {
    "id": "C5j92anObntL",
    "outputId": "286981d8-0093-4b4a-bc62-7cfe28dc9e85"
   },
   "outputs": [
    {
     "name": "stdout",
     "output_type": "stream",
     "text": [
      "Requirement already satisfied: seaborn in ./myenv311/lib/python3.11/site-packages (0.13.0)\n",
      "Requirement already satisfied: numpy!=1.24.0,>=1.20 in ./myenv311/lib/python3.11/site-packages (from seaborn) (1.26.2)\n",
      "Requirement already satisfied: pandas>=1.2 in ./myenv311/lib/python3.11/site-packages (from seaborn) (2.1.3)\n",
      "Requirement already satisfied: matplotlib!=3.6.1,>=3.3 in ./myenv311/lib/python3.11/site-packages (from seaborn) (3.8.2)\n",
      "Requirement already satisfied: contourpy>=1.0.1 in ./myenv311/lib/python3.11/site-packages (from matplotlib!=3.6.1,>=3.3->seaborn) (1.2.0)\n",
      "Requirement already satisfied: cycler>=0.10 in ./myenv311/lib/python3.11/site-packages (from matplotlib!=3.6.1,>=3.3->seaborn) (0.12.1)\n",
      "Requirement already satisfied: fonttools>=4.22.0 in ./myenv311/lib/python3.11/site-packages (from matplotlib!=3.6.1,>=3.3->seaborn) (4.46.0)\n",
      "Requirement already satisfied: kiwisolver>=1.3.1 in ./myenv311/lib/python3.11/site-packages (from matplotlib!=3.6.1,>=3.3->seaborn) (1.4.5)\n",
      "Requirement already satisfied: packaging>=20.0 in ./myenv311/lib/python3.11/site-packages (from matplotlib!=3.6.1,>=3.3->seaborn) (23.2)\n",
      "Requirement already satisfied: pillow>=8 in ./myenv311/lib/python3.11/site-packages (from matplotlib!=3.6.1,>=3.3->seaborn) (10.1.0)\n",
      "Requirement already satisfied: pyparsing>=2.3.1 in ./myenv311/lib/python3.11/site-packages (from matplotlib!=3.6.1,>=3.3->seaborn) (3.1.1)\n",
      "Requirement already satisfied: python-dateutil>=2.7 in ./myenv311/lib/python3.11/site-packages (from matplotlib!=3.6.1,>=3.3->seaborn) (2.8.2)\n",
      "Requirement already satisfied: pytz>=2020.1 in ./myenv311/lib/python3.11/site-packages (from pandas>=1.2->seaborn) (2023.3.post1)\n",
      "Requirement already satisfied: tzdata>=2022.1 in ./myenv311/lib/python3.11/site-packages (from pandas>=1.2->seaborn) (2023.3)\n",
      "Requirement already satisfied: six>=1.5 in ./myenv311/lib/python3.11/site-packages (from python-dateutil>=2.7->matplotlib!=3.6.1,>=3.3->seaborn) (1.16.0)\n",
      "\n",
      "\u001b[1m[\u001b[0m\u001b[34;49mnotice\u001b[0m\u001b[1;39;49m]\u001b[0m\u001b[39;49m A new release of pip is available: \u001b[0m\u001b[31;49m23.2.1\u001b[0m\u001b[39;49m -> \u001b[0m\u001b[32;49m23.3.1\u001b[0m\n",
      "\u001b[1m[\u001b[0m\u001b[34;49mnotice\u001b[0m\u001b[1;39;49m]\u001b[0m\u001b[39;49m To update, run: \u001b[0m\u001b[32;49mpip install --upgrade pip\u001b[0m\n",
      "Note: you may need to restart the kernel to use updated packages.\n"
     ]
    }
   ],
   "source": [
    "%pip install seaborn"
   ]
  },
  {
   "cell_type": "markdown",
   "metadata": {
    "id": "oCgWlBRdbntL"
   },
   "source": [
    "# Importing essential packages"
   ]
  },
  {
   "cell_type": "code",
   "execution_count": 5,
   "metadata": {
    "id": "50FNkI3BbntL"
   },
   "outputs": [],
   "source": [
    "import h5py\n",
    "import numpy as np\n",
    "import keras\n",
    "import tensorflow as tf\n",
    "import matplotlib.pyplot as plt\n",
    "import pandas as pd\n",
    "import seaborn as sns\n",
    "import sys\n",
    "import warnings\n",
    "from tqdm import tqdm"
   ]
  },
  {
   "cell_type": "markdown",
   "metadata": {
    "id": "J7sDhiOsbntM"
   },
   "source": [
    "# Defining the file paths for data used"
   ]
  },
  {
   "cell_type": "code",
   "execution_count": 6,
   "metadata": {
    "id": "J13rznN6bntM"
   },
   "outputs": [],
   "source": [
    "clean_val_data_path = 'valid.h5'\n",
    "clean_test_data_path= 'test.h5'\n",
    "poisoned_val_data_path= 'bd_valid.h5'\n",
    "poisoned_test_data_path= 'bd_test.h5'\n",
    "#model_path = 'sunglasses_bd_net.h5'\n",
    "model_path = 'bd_net.h5'"
   ]
  },
  {
   "cell_type": "code",
   "execution_count": 7,
   "metadata": {
    "id": "N2cHRDgebntM",
    "outputId": "2d7d2433-57c1-436e-9511-d1e917d7c3f9"
   },
   "outputs": [
    {
     "name": "stdout",
     "output_type": "stream",
     "text": [
      "361/361 [==============================] - 1s 3ms/step\n",
      "Clean Classification accuracy: 98.64899974019225\n",
      "361/361 [==============================] - 1s 4ms/step\n",
      "Attack Success Rate: 100.0\n"
     ]
    }
   ],
   "source": [
    "# Loading the validation dataset\n",
    "# This function should load and return the dataset\n",
    "# It's important to ensure the data is loaded correctly and matches the expected format\n",
    "def data_loader(filepath):\n",
    "    data = h5py.File(filepath, 'r')\n",
    "    x_data = np.array(data['data'])\n",
    "    y_data = np.array(data['label'])\n",
    "    x_data = x_data.transpose((0,2,3,1))\n",
    "\n",
    "    return x_data, y_data\n",
    "\n",
    "# Loading the validation dataset\n",
    "# This function should load and return the dataset\n",
    "# It's important to ensure the data is loaded correctly and matches the expected format\n",
    "\n",
    "cl_x_test, cl_y_test = data_loader(clean_val_data_path)\n",
    "# Loading the validation dataset\n",
    "# This function should load and return the dataset\n",
    "# It's important to ensure the data is loaded correctly and matches the expected format\n",
    "\n",
    "bd_x_test, bd_y_test = data_loader(poisoned_val_data_path)\n",
    "\n",
    "bd_model = keras.models.load_model(model_path)\n",
    "\n",
    "cl_label_p = np.argmax(bd_model.predict(cl_x_test), axis=1)\n",
    "clean_accuracy = np.mean(np.equal(cl_label_p, cl_y_test))*100\n",
    "print('Clean Classification accuracy:', clean_accuracy)\n",
    "    \n",
    "bd_label_p = np.argmax(bd_model.predict(bd_x_test), axis=1)\n",
    "asr = np.mean(np.equal(bd_label_p, bd_y_test))*100\n",
    "print('Attack Success Rate:', asr)\n",
    "\n"
   ]
  },
  {
   "cell_type": "code",
   "execution_count": 8,
   "metadata": {
    "id": "4CqnhsOLbntN",
    "outputId": "203892ef-69cc-44a3-c1db-b2276b810c15"
   },
   "outputs": [
    {
     "data": {
      "image/png": "[encoded data removed]",
      "text/plain": [
       "<Figure size 1000x1000 with 9 Axes>"
      ]
     },
     "metadata": {},
     "output_type": "display_data"
    }
   ],
   "source": [
    "# Loading the validation dataset\n",
    "# This function should load and return the dataset\n",
    "# It's important to ensure the data is loaded correctly and matches the expected format\n",
    "\n",
    "x_data, y_data = data_loader(clean_val_data_path)\n",
    "\n",
    "figure = plt.figure(figsize=(10,10))\n",
    "cols, rows = 3,3\n",
    "\n",
    "# Displaying a random selection of images from the dataset\n",
    "# This helps to visually verify the data\n",
    "# Normalizing the image data to [0,1] range for proper visualization\n",
    "\n",
    "for i in range(1, cols*rows+1):\n",
    "  index = np.random.randint(x_data.shape[0], size=1)\n",
    "  img, label = (x_data[index], y_data[index])\n",
    "  figure.add_subplot(rows, cols, i)\n",
    "  plt.title(\"true label: {}\".format(label))\n",
    "  plt.axis(\"off\")\n",
    "  plt.imshow(img[0]/255)\n",
    "plt.show()"
   ]
  },
  {
   "cell_type": "code",
   "execution_count": 9,
   "metadata": {
    "id": "4TyVSD1ebntN",
    "outputId": "54508957-694f-41b3-da4e-57e74fe0580c"
   },
   "outputs": [
    {
     "data": {
      "image/png": "[encoded data removed]",
      "text/plain": [
       "<Figure size 1000x800 with 9 Axes>"
      ]
     },
     "metadata": {},
     "output_type": "display_data"
    }
   ],
   "source": [
    "x_poisoned_data, y_poisoned_data = data_loader(poisoned_val_data_path)\n",
    "\n",
    "figure = plt.figure(figsize=(10,8))\n",
    "cols, rows = 3,3\n",
    "for i in range(1, cols*rows+1):\n",
    "  index = np.random.randint(x_poisoned_data.shape[0], size=1)\n",
    "  img, label = (x_poisoned_data[index], y_poisoned_data[index])\n",
    "  figure.add_subplot(rows, cols, i)\n",
    "  plt.title(\"true label: {}\".format(label))\n",
    "  plt.axis(\"off\")\n",
    "  plt.imshow(img[0]/255)\n",
    "plt.show()"
   ]
  },
  {
   "cell_type": "markdown",
   "metadata": {
    "id": "q6dPGrxpbntO"
   },
   "source": [
    "# LET'S CHECK THE STRUCTURE OF THE MODEL NEXT. WILL HELP IN PRUNING"
   ]
  },
  {
   "cell_type": "code",
   "execution_count": 10,
   "metadata": {
    "id": "EulJQjxnbntO"
   },
   "outputs": [],
   "source": [
    "model = keras.models.load_model(model_path) #bd_net model"
   ]
  },
  {
   "cell_type": "code",
   "execution_count": 11,
   "metadata": {
    "id": "XimgfiOybntO",
    "outputId": "168e8809-d065-45bc-a014-bbd9cd39895e"
   },
   "outputs": [
    {
     "name": "stdout",
     "output_type": "stream",
     "text": [
      "Model: \"model_1\"\n",
      "__________________________________________________________________________________________________\n",
      " Layer (type)                Output Shape                 Param #   Connected to                  \n",
      "==================================================================================================\n",
      " input (InputLayer)          [(None, 55, 47, 3)]          0         []                            \n",
      "                                                                                                  \n",
      " conv_1 (Conv2D)             (None, 52, 44, 20)           980       ['input[0][0]']               \n",
      "                                                                                                  \n",
      " pool_1 (MaxPooling2D)       (None, 26, 22, 20)           0         ['conv_1[0][0]']              \n",
      "                                                                                                  \n",
      " conv_2 (Conv2D)             (None, 24, 20, 40)           7240      ['pool_1[0][0]']              \n",
      "                                                                                                  \n",
      " pool_2 (MaxPooling2D)       (None, 12, 10, 40)           0         ['conv_2[0][0]']              \n",
      "                                                                                                  \n",
      " conv_3 (Conv2D)             (None, 10, 8, 60)            21660     ['pool_2[0][0]']              \n",
      "                                                                                                  \n",
      " pool_3 (MaxPooling2D)       (None, 5, 4, 60)             0         ['conv_3[0][0]']              \n",
      "                                                                                                  \n",
      " conv_4 (Conv2D)             (None, 4, 3, 80)             19280     ['pool_3[0][0]']              \n",
      "                                                                                                  \n",
      " flatten_1 (Flatten)         (None, 1200)                 0         ['pool_3[0][0]']              \n",
      "                                                                                                  \n",
      " flatten_2 (Flatten)         (None, 960)                  0         ['conv_4[0][0]']              \n",
      "                                                                                                  \n",
      " fc_1 (Dense)                (None, 160)                  192160    ['flatten_1[0][0]']           \n",
      "                                                                                                  \n",
      " fc_2 (Dense)                (None, 160)                  153760    ['flatten_2[0][0]']           \n",
      "                                                                                                  \n",
      " add_1 (Add)                 (None, 160)                  0         ['fc_1[0][0]',                \n",
      "                                                                     'fc_2[0][0]']                \n",
      "                                                                                                  \n",
      " activation_1 (Activation)   (None, 160)                  0         ['add_1[0][0]']               \n",
      "                                                                                                  \n",
      " output (Dense)              (None, 1283)                 206563    ['activation_1[0][0]']        \n",
      "                                                                                                  \n",
      "==================================================================================================\n",
      "Total params: 601643 (2.30 MB)\n",
      "Trainable params: 601643 (2.30 MB)\n",
      "Non-trainable params: 0 (0.00 Byte)\n",
      "__________________________________________________________________________________________________\n",
      "None\n"
     ]
    }
   ],
   "source": [
    "print(model.summary())"
   ]
  },
  {
   "cell_type": "markdown",
   "metadata": {
    "id": "Y3KEvXp6bntP"
   },
   "source": [
    "## Enhanced Section Description\n",
    "# According to the assignment, the last pooling layer, here pool_3 needs to be pruned by removing channels in increasing order of average activation values over the entire validation set."
   ]
  },
  {
   "cell_type": "code",
   "execution_count": 12,
   "metadata": {
    "id": "I6wuJYSBbntP"
   },
   "outputs": [],
   "source": [
    "keras.backend.clear_session()"
   ]
  },
  {
   "cell_type": "code",
   "execution_count": 13,
   "metadata": {
    "id": "xeOxWE3JbntP"
   },
   "outputs": [],
   "source": [
    "cl_x_test, cl_y_test = data_loader(clean_val_data_path)\n",
    "bd_x_test, bd_y_test = data_loader(poisoned_val_data_path)"
   ]
  },
  {
   "cell_type": "code",
   "execution_count": 14,
   "metadata": {
    "id": "FBXqEOitbntP",
    "outputId": "3300a7e3-c88a-447f-d9ae-1efed99995f5"
   },
   "outputs": [
    {
     "name": "stdout",
     "output_type": "stream",
     "text": [
      "361/361 [==============================] - 1s 3ms/step\n"
     ]
    },
    {
     "name": "stderr",
     "output_type": "stream",
     "text": [
      "  0%|                                                                                                                                                                                  | 0/60 [00:00<?, ?it/s]"
     ]
    },
    {
     "name": "stdout",
     "output_type": "stream",
     "text": [
      "361/361 [==============================] - 1s 4ms/step\n",
      "361/361 [==============================] - 1s 4ms/step\n"
     ]
    },
    {
     "name": "stderr",
     "output_type": "stream",
     "text": [
      "  2%|██▊                                                                                                                                                                       | 1/60 [00:03<03:37,  3.69s/it]"
     ]
    },
    {
     "name": "stdout",
     "output_type": "stream",
     "text": [
      "\n",
      "The clean accuracy is:  98.64899974019225\n",
      "The attack success rate is:  100.0\n",
      "The pruned channel index is:  0\n",
      "361/361 [==============================] - 1s 3ms/step\n",
      "361/361 [==============================] - 1s 3ms/step\n",
      "\n",
      "The clean accuracy is:  98.64899974019225\n",
      "The attack success rate is:  100.0\n",
      "The pruned channel index is:  26\n"
     ]
    },
    {
     "name": "stderr",
     "output_type": "stream",
     "text": [
      "  3%|█████▋                                                                                                                                                                    | 2/60 [00:07<03:27,  3.58s/it]"
     ]
    },
    {
     "name": "stdout",
     "output_type": "stream",
     "text": [
      "361/361 [==============================] - 1s 3ms/step\n",
      "361/361 [==============================] - 1s 3ms/step\n",
      "\n",
      "The clean accuracy is:  98.64899974019225\n",
      "The attack success rate is:  100.0\n",
      "The pruned channel index is:  27\n"
     ]
    },
    {
     "name": "stderr",
     "output_type": "stream",
     "text": [
      "  5%|████████▌                                                                                                                                                                 | 3/60 [00:10<03:10,  3.34s/it]"
     ]
    },
    {
     "name": "stdout",
     "output_type": "stream",
     "text": [
      "361/361 [==============================] - 1s 3ms/step\n",
      "361/361 [==============================] - 1s 4ms/step\n"
     ]
    },
    {
     "name": "stderr",
     "output_type": "stream",
     "text": [
      "  7%|███████████▎                                                                                                                                                              | 4/60 [00:13<03:04,  3.30s/it]"
     ]
    },
    {
     "name": "stdout",
     "output_type": "stream",
     "text": [
      "\n",
      "The clean accuracy is:  98.64899974019225\n",
      "The attack success rate is:  100.0\n",
      "The pruned channel index is:  30\n",
      "361/361 [==============================] - 1s 3ms/step\n",
      "361/361 [==============================] - 1s 4ms/step\n"
     ]
    },
    {
     "name": "stderr",
     "output_type": "stream",
     "text": [
      "  8%|██████████████▏                                                                                                                                                           | 5/60 [00:16<02:56,  3.21s/it]"
     ]
    },
    {
     "name": "stdout",
     "output_type": "stream",
     "text": [
      "\n",
      "The clean accuracy is:  98.64899974019225\n",
      "The attack success rate is:  100.0\n",
      "The pruned channel index is:  31\n",
      "361/361 [==============================] - 1s 3ms/step\n",
      "361/361 [==============================] - 1s 4ms/step\n"
     ]
    },
    {
     "name": "stderr",
     "output_type": "stream",
     "text": [
      " 10%|█████████████████                                                                                                                                                         | 6/60 [00:19<02:50,  3.15s/it]"
     ]
    },
    {
     "name": "stdout",
     "output_type": "stream",
     "text": [
      "\n",
      "The clean accuracy is:  98.64899974019225\n",
      "The attack success rate is:  100.0\n",
      "The pruned channel index is:  33\n",
      "361/361 [==============================] - 1s 3ms/step\n",
      "361/361 [==============================] - 1s 3ms/step\n"
     ]
    },
    {
     "name": "stderr",
     "output_type": "stream",
     "text": [
      " 12%|███████████████████▊                                                                                                                                                      | 7/60 [00:23<02:51,  3.24s/it]"
     ]
    },
    {
     "name": "stdout",
     "output_type": "stream",
     "text": [
      "\n",
      "The clean accuracy is:  98.64899974019225\n",
      "The attack success rate is:  100.0\n",
      "The pruned channel index is:  34\n",
      "361/361 [==============================] - 1s 3ms/step\n",
      "361/361 [==============================] - 1s 4ms/step\n"
     ]
    },
    {
     "name": "stderr",
     "output_type": "stream",
     "text": [
      " 13%|██████████████████████▋                                                                                                                                                   | 8/60 [00:26<02:45,  3.18s/it]"
     ]
    },
    {
     "name": "stdout",
     "output_type": "stream",
     "text": [
      "\n",
      "The clean accuracy is:  98.64899974019225\n",
      "The attack success rate is:  100.0\n",
      "The pruned channel index is:  36\n",
      "361/361 [==============================] - 1s 4ms/step\n",
      "361/361 [==============================] - 2s 4ms/step\n"
     ]
    },
    {
     "name": "stderr",
     "output_type": "stream",
     "text": [
      " 15%|█████████████████████████▌                                                                                                                                                | 9/60 [00:29<02:46,  3.26s/it]"
     ]
    },
    {
     "name": "stdout",
     "output_type": "stream",
     "text": [
      "\n",
      "The clean accuracy is:  98.64899974019225\n",
      "The attack success rate is:  100.0\n",
      "The pruned channel index is:  37\n",
      "361/361 [==============================] - 1s 3ms/step\n",
      "361/361 [==============================] - 1s 3ms/step\n"
     ]
    },
    {
     "name": "stderr",
     "output_type": "stream",
     "text": [
      " 17%|████████████████████████████▏                                                                                                                                            | 10/60 [00:33<02:49,  3.39s/it]"
     ]
    },
    {
     "name": "stdout",
     "output_type": "stream",
     "text": [
      "\n",
      "The clean accuracy is:  98.64899974019225\n",
      "The attack success rate is:  100.0\n",
      "The pruned channel index is:  38\n",
      "361/361 [==============================] - 1s 3ms/step\n",
      "361/361 [==============================] - 1s 4ms/step\n"
     ]
    },
    {
     "name": "stderr",
     "output_type": "stream",
     "text": [
      " 18%|██████████████████████████████▉                                                                                                                                          | 11/60 [00:36<02:41,  3.29s/it]"
     ]
    },
    {
     "name": "stdout",
     "output_type": "stream",
     "text": [
      "\n",
      "The clean accuracy is:  98.64899974019225\n",
      "The attack success rate is:  100.0\n",
      "The pruned channel index is:  25\n",
      "361/361 [==============================] - 1s 3ms/step\n",
      "361/361 [==============================] - 1s 4ms/step\n"
     ]
    },
    {
     "name": "stderr",
     "output_type": "stream",
     "text": [
      " 20%|█████████████████████████████████▊                                                                                                                                       | 12/60 [00:39<02:35,  3.23s/it]"
     ]
    },
    {
     "name": "stdout",
     "output_type": "stream",
     "text": [
      "\n",
      "The clean accuracy is:  98.64899974019225\n",
      "The attack success rate is:  100.0\n",
      "The pruned channel index is:  39\n",
      "361/361 [==============================] - 1s 3ms/step\n",
      "361/361 [==============================] - 1s 3ms/step\n"
     ]
    },
    {
     "name": "stderr",
     "output_type": "stream",
     "text": [
      " 22%|████████████████████████████████████▌                                                                                                                                    | 13/60 [00:42<02:33,  3.28s/it]"
     ]
    },
    {
     "name": "stdout",
     "output_type": "stream",
     "text": [
      "\n",
      "The clean accuracy is:  98.64899974019225\n",
      "The attack success rate is:  100.0\n",
      "The pruned channel index is:  41\n",
      "361/361 [==============================] - 1s 4ms/step\n",
      "361/361 [==============================] - 1s 4ms/step\n"
     ]
    },
    {
     "name": "stderr",
     "output_type": "stream",
     "text": [
      " 23%|███████████████████████████████████████▍                                                                                                                                 | 14/60 [00:45<02:28,  3.23s/it]"
     ]
    },
    {
     "name": "stdout",
     "output_type": "stream",
     "text": [
      "\n",
      "The clean accuracy is:  98.64899974019225\n",
      "The attack success rate is:  100.0\n",
      "The pruned channel index is:  44\n",
      "361/361 [==============================] - 1s 3ms/step\n",
      "361/361 [==============================] - 1s 4ms/step\n"
     ]
    },
    {
     "name": "stderr",
     "output_type": "stream",
     "text": [
      " 25%|██████████████████████████████████████████▎                                                                                                                              | 15/60 [00:48<02:22,  3.17s/it]"
     ]
    },
    {
     "name": "stdout",
     "output_type": "stream",
     "text": [
      "\n",
      "The clean accuracy is:  98.64899974019225\n",
      "The attack success rate is:  100.0\n",
      "The pruned channel index is:  45\n",
      "361/361 [==============================] - 1s 3ms/step\n",
      "361/361 [==============================] - 1s 3ms/step\n"
     ]
    },
    {
     "name": "stderr",
     "output_type": "stream",
     "text": [
      " 27%|█████████████████████████████████████████████                                                                                                                            | 16/60 [00:52<02:22,  3.24s/it]"
     ]
    },
    {
     "name": "stdout",
     "output_type": "stream",
     "text": [
      "\n",
      "The clean accuracy is:  98.64899974019225\n",
      "The attack success rate is:  100.0\n",
      "The pruned channel index is:  47\n",
      "361/361 [==============================] - 1s 3ms/step\n",
      "361/361 [==============================] - 1s 3ms/step\n",
      "\n",
      "The clean accuracy is:  98.64899974019225\n",
      "The attack success rate is:  100.0\n",
      "The pruned channel index is:  48\n"
     ]
    },
    {
     "name": "stderr",
     "output_type": "stream",
     "text": [
      " 28%|███████████████████████████████████████████████▉                                                                                                                         | 17/60 [00:55<02:17,  3.19s/it]"
     ]
    },
    {
     "name": "stdout",
     "output_type": "stream",
     "text": [
      "361/361 [==============================] - 1s 3ms/step\n",
      "361/361 [==============================] - 1s 4ms/step\n"
     ]
    },
    {
     "name": "stderr",
     "output_type": "stream",
     "text": [
      " 30%|██████████████████████████████████████████████████▋                                                                                                                      | 18/60 [00:58<02:12,  3.14s/it]"
     ]
    },
    {
     "name": "stdout",
     "output_type": "stream",
     "text": [
      "\n",
      "The clean accuracy is:  98.64899974019225\n",
      "The attack success rate is:  100.0\n",
      "The pruned channel index is:  49\n",
      "361/361 [==============================] - 1s 3ms/step\n",
      "361/361 [==============================] - 1s 3ms/step\n"
     ]
    },
    {
     "name": "stderr",
     "output_type": "stream",
     "text": [
      " 32%|█████████████████████████████████████████████████████▌                                                                                                                   | 19/60 [01:01<02:12,  3.23s/it]"
     ]
    },
    {
     "name": "stdout",
     "output_type": "stream",
     "text": [
      "\n",
      "The clean accuracy is:  98.64899974019225\n",
      "The attack success rate is:  100.0\n",
      "The pruned channel index is:  50\n",
      "361/361 [==============================] - 1s 3ms/step\n",
      "361/361 [==============================] - 1s 3ms/step\n"
     ]
    },
    {
     "name": "stderr",
     "output_type": "stream",
     "text": [
      " 33%|████████████████████████████████████████████████████████▎                                                                                                                | 20/60 [01:04<02:07,  3.18s/it]"
     ]
    },
    {
     "name": "stdout",
     "output_type": "stream",
     "text": [
      "\n",
      "The clean accuracy is:  98.64899974019225\n",
      "The attack success rate is:  100.0\n",
      "The pruned channel index is:  53\n",
      "361/361 [==============================] - 1s 3ms/step\n",
      "361/361 [==============================] - 1s 3ms/step\n"
     ]
    },
    {
     "name": "stderr",
     "output_type": "stream",
     "text": [
      " 35%|███████████████████████████████████████████████████████████▏                                                                                                             | 21/60 [01:07<02:02,  3.13s/it]"
     ]
    },
    {
     "name": "stdout",
     "output_type": "stream",
     "text": [
      "\n",
      "The clean accuracy is:  98.64899974019225\n",
      "The attack success rate is:  100.0\n",
      "The pruned channel index is:  55\n",
      "361/361 [==============================] - 1s 3ms/step\n",
      "361/361 [==============================] - 1s 4ms/step\n"
     ]
    },
    {
     "name": "stderr",
     "output_type": "stream",
     "text": [
      " 37%|█████████████████████████████████████████████████████████████▉                                                                                                           | 22/60 [01:11<02:03,  3.24s/it]"
     ]
    },
    {
     "name": "stdout",
     "output_type": "stream",
     "text": [
      "\n",
      "The clean accuracy is:  98.64899974019225\n",
      "The attack success rate is:  100.0\n",
      "The pruned channel index is:  40\n",
      "361/361 [==============================] - 1s 3ms/step\n",
      "361/361 [==============================] - 1s 3ms/step\n"
     ]
    },
    {
     "name": "stderr",
     "output_type": "stream",
     "text": [
      " 38%|████████████████████████████████████████████████████████████████▊                                                                                                        | 23/60 [01:14<01:57,  3.19s/it]"
     ]
    },
    {
     "name": "stdout",
     "output_type": "stream",
     "text": [
      "\n",
      "The clean accuracy is:  98.64899974019225\n",
      "The attack success rate is:  100.0\n",
      "The pruned channel index is:  24\n",
      "361/361 [==============================] - 1s 4ms/step\n",
      "361/361 [==============================] - 1s 4ms/step\n"
     ]
    },
    {
     "name": "stderr",
     "output_type": "stream",
     "text": [
      " 40%|███████████████████████████████████████████████████████████████████▌                                                                                                     | 24/60 [01:17<01:53,  3.15s/it]"
     ]
    },
    {
     "name": "stdout",
     "output_type": "stream",
     "text": [
      "\n",
      "The clean accuracy is:  98.64899974019225\n",
      "The attack success rate is:  100.0\n",
      "The pruned channel index is:  59\n",
      "361/361 [==============================] - 1s 3ms/step\n",
      "361/361 [==============================] - 1s 3ms/step\n"
     ]
    },
    {
     "name": "stderr",
     "output_type": "stream",
     "text": [
      " 42%|██████████████████████████████████████████████████████████████████████▍                                                                                                  | 25/60 [01:20<01:52,  3.23s/it]"
     ]
    },
    {
     "name": "stdout",
     "output_type": "stream",
     "text": [
      "\n",
      "The clean accuracy is:  98.64899974019225\n",
      "The attack success rate is:  100.0\n",
      "The pruned channel index is:  9\n",
      "361/361 [==============================] - 1s 3ms/step\n",
      "361/361 [==============================] - 1s 3ms/step\n"
     ]
    },
    {
     "name": "stderr",
     "output_type": "stream",
     "text": [
      " 43%|█████████████████████████████████████████████████████████████████████████▏                                                                                               | 26/60 [01:23<01:47,  3.18s/it]"
     ]
    },
    {
     "name": "stdout",
     "output_type": "stream",
     "text": [
      "\n",
      "The clean accuracy is:  98.64899974019225\n",
      "The attack success rate is:  100.0\n",
      "The pruned channel index is:  2\n",
      "361/361 [==============================] - 1s 4ms/step\n",
      "361/361 [==============================] - 1s 4ms/step\n"
     ]
    },
    {
     "name": "stderr",
     "output_type": "stream",
     "text": [
      " 45%|████████████████████████████████████████████████████████████████████████████                                                                                             | 27/60 [01:27<01:46,  3.23s/it]"
     ]
    },
    {
     "name": "stdout",
     "output_type": "stream",
     "text": [
      "\n",
      "The clean accuracy is:  98.64899974019225\n",
      "The attack success rate is:  100.0\n",
      "The pruned channel index is:  12\n",
      "361/361 [==============================] - 1s 4ms/step\n",
      "361/361 [==============================] - 2s 6ms/step\n"
     ]
    },
    {
     "name": "stderr",
     "output_type": "stream",
     "text": [
      " 47%|██████████████████████████████████████████████████████████████████████████████▊                                                                                          | 28/60 [01:31<01:54,  3.57s/it]"
     ]
    },
    {
     "name": "stdout",
     "output_type": "stream",
     "text": [
      "\n",
      "The clean accuracy is:  98.64899974019225\n",
      "The attack success rate is:  100.0\n",
      "The pruned channel index is:  13\n",
      "361/361 [==============================] - 1s 4ms/step\n",
      "361/361 [==============================] - 1s 4ms/step\n"
     ]
    },
    {
     "name": "stderr",
     "output_type": "stream",
     "text": [
      " 48%|█████████████████████████████████████████████████████████████████████████████████▋                                                                                       | 29/60 [01:35<01:49,  3.54s/it]"
     ]
    },
    {
     "name": "stdout",
     "output_type": "stream",
     "text": [
      "\n",
      "The clean accuracy is:  98.64899974019225\n",
      "The attack success rate is:  100.0\n",
      "The pruned channel index is:  17\n",
      "361/361 [==============================] - 1s 3ms/step\n",
      "361/361 [==============================] - 1s 4ms/step\n"
     ]
    },
    {
     "name": "stderr",
     "output_type": "stream",
     "text": [
      " 50%|████████████████████████████████████████████████████████████████████████████████████▌                                                                                    | 30/60 [01:38<01:44,  3.47s/it]"
     ]
    },
    {
     "name": "stdout",
     "output_type": "stream",
     "text": [
      "\n",
      "The clean accuracy is:  98.64899974019225\n",
      "The attack success rate is:  100.0\n",
      "The pruned channel index is:  14\n",
      "361/361 [==============================] - 1s 3ms/step\n",
      "361/361 [==============================] - 1s 4ms/step\n"
     ]
    },
    {
     "name": "stderr",
     "output_type": "stream",
     "text": [
      " 52%|███████████████████████████████████████████████████████████████████████████████████████▎                                                                                 | 31/60 [01:41<01:39,  3.43s/it]"
     ]
    },
    {
     "name": "stdout",
     "output_type": "stream",
     "text": [
      "\n",
      "The clean accuracy is:  98.64899974019225\n",
      "The attack success rate is:  100.0\n",
      "The pruned channel index is:  15\n",
      "361/361 [==============================] - 1s 3ms/step\n",
      "361/361 [==============================] - 1s 3ms/step\n"
     ]
    },
    {
     "name": "stderr",
     "output_type": "stream",
     "text": [
      " 53%|██████████████████████████████████████████████████████████████████████████████████████████▏                                                                              | 32/60 [01:44<01:32,  3.31s/it]"
     ]
    },
    {
     "name": "stdout",
     "output_type": "stream",
     "text": [
      "\n",
      "The clean accuracy is:  98.64899974019225\n",
      "The attack success rate is:  100.0\n",
      "The pruned channel index is:  23\n",
      "361/361 [==============================] - 1s 3ms/step\n",
      "361/361 [==============================] - 1s 3ms/step\n"
     ]
    },
    {
     "name": "stderr",
     "output_type": "stream",
     "text": [
      " 55%|████████████████████████████████████████████████████████████████████████████████████████████▉                                                                            | 33/60 [01:47<01:27,  3.23s/it]"
     ]
    },
    {
     "name": "stdout",
     "output_type": "stream",
     "text": [
      "\n",
      "The clean accuracy is:  98.64899974019225\n",
      "The attack success rate is:  100.0\n",
      "The pruned channel index is:  6\n",
      "361/361 [==============================] - 1s 3ms/step\n",
      "361/361 [==============================] - 1s 3ms/step\n"
     ]
    },
    {
     "name": "stderr",
     "output_type": "stream",
     "text": [
      " 57%|███████████████████████████████████████████████████████████████████████████████████████████████▊                                                                         | 34/60 [01:51<01:25,  3.28s/it]"
     ]
    },
    {
     "name": "stdout",
     "output_type": "stream",
     "text": [
      "\n",
      "The clean accuracy is:  98.64033948211657\n",
      "The attack success rate is:  100.0\n",
      "The pruned channel index is:  51\n",
      "361/361 [==============================] - 1s 3ms/step\n",
      "361/361 [==============================] - 1s 3ms/step\n"
     ]
    },
    {
     "name": "stderr",
     "output_type": "stream",
     "text": [
      " 58%|██████████████████████████████████████████████████████████████████████████████████████████████████▌                                                                      | 35/60 [01:54<01:19,  3.20s/it]"
     ]
    },
    {
     "name": "stdout",
     "output_type": "stream",
     "text": [
      "\n",
      "The clean accuracy is:  98.64033948211657\n",
      "The attack success rate is:  100.0\n",
      "The pruned channel index is:  32\n",
      "361/361 [==============================] - 1s 3ms/step\n",
      "361/361 [==============================] - 1s 4ms/step\n"
     ]
    },
    {
     "name": "stderr",
     "output_type": "stream",
     "text": [
      " 60%|█████████████████████████████████████████████████████████████████████████████████████████████████████▍                                                                   | 36/60 [01:57<01:15,  3.16s/it]"
     ]
    },
    {
     "name": "stdout",
     "output_type": "stream",
     "text": [
      "\n",
      "The clean accuracy is:  98.63167922404088\n",
      "The attack success rate is:  100.0\n",
      "The pruned channel index is:  22\n",
      "361/361 [==============================] - 1s 4ms/step\n",
      "361/361 [==============================] - 1s 3ms/step\n"
     ]
    },
    {
     "name": "stderr",
     "output_type": "stream",
     "text": [
      " 62%|████████████████████████████████████████████████████████████████████████████████████████████████████████▏                                                                | 37/60 [02:00<01:13,  3.22s/it]"
     ]
    },
    {
     "name": "stdout",
     "output_type": "stream",
     "text": [
      "\n",
      "The clean accuracy is:  98.65765999826795\n",
      "The attack success rate is:  100.0\n",
      "The pruned channel index is:  21\n",
      "361/361 [==============================] - 1s 4ms/step\n",
      "361/361 [==============================] - 1s 3ms/step\n"
     ]
    },
    {
     "name": "stderr",
     "output_type": "stream",
     "text": [
      " 63%|███████████████████████████████████████████████████████████████████████████████████████████████████████████                                                              | 38/60 [02:03<01:10,  3.19s/it]"
     ]
    },
    {
     "name": "stdout",
     "output_type": "stream",
     "text": [
      "\n",
      "The clean accuracy is:  98.64899974019225\n",
      "The attack success rate is:  100.0\n",
      "The pruned channel index is:  20\n",
      "361/361 [==============================] - 1s 3ms/step\n",
      "361/361 [==============================] - 1s 3ms/step\n"
     ]
    },
    {
     "name": "stderr",
     "output_type": "stream",
     "text": [
      " 65%|█████████████████████████████████████████████████████████████████████████████████████████████████████████████▊                                                           | 39/60 [02:06<01:06,  3.15s/it]"
     ]
    },
    {
     "name": "stdout",
     "output_type": "stream",
     "text": [
      "\n",
      "The clean accuracy is:  98.6056984498138\n",
      "The attack success rate is:  100.0\n",
      "The pruned channel index is:  19\n",
      "361/361 [==============================] - 1s 3ms/step\n",
      "361/361 [==============================] - 1s 3ms/step\n"
     ]
    },
    {
     "name": "stderr",
     "output_type": "stream",
     "text": [
      " 67%|████████████████████████████████████████████████████████████████████████████████████████████████████████████████▋                                                        | 40/60 [02:10<01:04,  3.21s/it]"
     ]
    },
    {
     "name": "stdout",
     "output_type": "stream",
     "text": [
      "\n",
      "The clean accuracy is:  98.57105741751104\n",
      "The attack success rate is:  100.0\n",
      "The pruned channel index is:  43\n",
      "361/361 [==============================] - 1s 3ms/step\n",
      "361/361 [==============================] - 1s 3ms/step\n"
     ]
    },
    {
     "name": "stderr",
     "output_type": "stream",
     "text": [
      " 68%|███████████████████████████████████████████████████████████████████████████████████████████████████████████████████▍                                                     | 41/60 [02:13<01:00,  3.17s/it]"
     ]
    },
    {
     "name": "stdout",
     "output_type": "stream",
     "text": [
      "\n",
      "The clean accuracy is:  98.53641638520828\n",
      "The attack success rate is:  100.0\n",
      "The pruned channel index is:  58\n",
      "361/361 [==============================] - 1s 4ms/step\n",
      "361/361 [==============================] - 1s 4ms/step\n"
     ]
    },
    {
     "name": "stderr",
     "output_type": "stream",
     "text": [
      " 70%|██████████████████████████████████████████████████████████████████████████████████████████████████████████████████████▎                                                  | 42/60 [02:16<00:56,  3.16s/it]"
     ]
    },
    {
     "name": "stdout",
     "output_type": "stream",
     "text": [
      "\n",
      "The clean accuracy is:  98.19000606218066\n",
      "The attack success rate is:  100.0\n",
      "The pruned channel index is:  3\n",
      "361/361 [==============================] - 1s 3ms/step\n",
      "361/361 [==============================] - 1s 3ms/step\n"
     ]
    },
    {
     "name": "stderr",
     "output_type": "stream",
     "text": [
      " 72%|█████████████████████████████████████████████████████████████████████████████████████████████████████████████████████████                                                | 43/60 [02:19<00:55,  3.24s/it]"
     ]
    },
    {
     "name": "stdout",
     "output_type": "stream",
     "text": [
      "\n",
      "The clean accuracy is:  97.65307006148784\n",
      "The attack success rate is:  100.0\n",
      "The pruned channel index is:  42\n",
      "361/361 [==============================] - 1s 3ms/step\n",
      "361/361 [==============================] - 1s 3ms/step\n"
     ]
    },
    {
     "name": "stderr",
     "output_type": "stream",
     "text": [
      " 73%|███████████████████████████████████████████████████████████████████████████████████████████████████████████████████████████▉                                             | 44/60 [02:22<00:50,  3.18s/it]"
     ]
    },
    {
     "name": "stdout",
     "output_type": "stream",
     "text": [
      "\n",
      "The clean accuracy is:  97.50584567420108\n",
      "The attack success rate is:  100.0\n",
      "The pruned channel index is:  1\n",
      "361/361 [==============================] - 1s 3ms/step\n",
      "361/361 [==============================] - 1s 4ms/step\n"
     ]
    },
    {
     "name": "stderr",
     "output_type": "stream",
     "text": [
      " 75%|██████████████████████████████████████████████████████████████████████████████████████████████████████████████████████████████▊                                          | 45/60 [02:26<00:47,  3.16s/it]"
     ]
    },
    {
     "name": "stdout",
     "output_type": "stream",
     "text": [
      "\n",
      "The clean accuracy is:  95.75647354291158\n",
      "The attack success rate is:  100.0\n",
      "The pruned channel index is:  29\n",
      "361/361 [==============================] - 1s 4ms/step\n",
      "361/361 [==============================] - 2s 5ms/step\n"
     ]
    },
    {
     "name": "stderr",
     "output_type": "stream",
     "text": [
      " 77%|█████████████████████████████████████████████████████████████████████████████████████████████████████████████████████████████████▌                                       | 46/60 [02:30<00:48,  3.48s/it]"
     ]
    },
    {
     "name": "stdout",
     "output_type": "stream",
     "text": [
      "\n",
      "The clean accuracy is:  95.20221702606739\n",
      "The attack success rate is:  99.9913397419243\n",
      "The pruned channel index is:  16\n",
      "361/361 [==============================] - 1s 3ms/step\n",
      "361/361 [==============================] - 1s 4ms/step\n",
      "\n",
      "The clean accuracy is:  94.7172425738287\n",
      "The attack success rate is:  99.9913397419243\n",
      "The pruned channel index is:  56\n"
     ]
    },
    {
     "name": "stderr",
     "output_type": "stream",
     "text": [
      " 78%|████████████████████████████████████████████████████████████████████████████████████████████████████████████████████████████████████▍                                    | 47/60 [02:33<00:44,  3.42s/it]"
     ]
    },
    {
     "name": "stdout",
     "output_type": "stream",
     "text": [
      "361/361 [==============================] - 1s 3ms/step\n",
      "361/361 [==============================] - 1s 3ms/step\n"
     ]
    },
    {
     "name": "stderr",
     "output_type": "stream",
     "text": [
      " 80%|███████████████████████████████████████████████████████████████████████████████████████████████████████████████████████████████████████▏                                 | 48/60 [02:36<00:40,  3.41s/it]"
     ]
    },
    {
     "name": "stdout",
     "output_type": "stream",
     "text": [
      "\n",
      "The clean accuracy is:  92.09318437689443\n",
      "The attack success rate is:  99.9913397419243\n",
      "The pruned channel index is:  46\n",
      "361/361 [==============================] - 1s 4ms/step\n",
      "361/361 [==============================] - 1s 3ms/step\n"
     ]
    },
    {
     "name": "stderr",
     "output_type": "stream",
     "text": [
      " 82%|██████████████████████████████████████████████████████████████████████████████████████████████████████████████████████████████████████████                               | 49/60 [02:40<00:37,  3.42s/it]"
     ]
    },
    {
     "name": "stdout",
     "output_type": "stream",
     "text": [
      "\n",
      "The clean accuracy is:  91.49562656967177\n",
      "The attack success rate is:  99.9913397419243\n",
      "The pruned channel index is:  5\n",
      "361/361 [==============================] - 1s 3ms/step\n",
      "361/361 [==============================] - 1s 4ms/step\n"
     ]
    },
    {
     "name": "stderr",
     "output_type": "stream",
     "text": [
      " 83%|████████████████████████████████████████████████████████████████████████████████████████████████████████████████████████████████████████████▊                            | 50/60 [02:43<00:33,  3.33s/it]"
     ]
    },
    {
     "name": "stdout",
     "output_type": "stream",
     "text": [
      "\n",
      "The clean accuracy is:  91.01931237550879\n",
      "The attack success rate is:  99.98267948384861\n",
      "The pruned channel index is:  8\n",
      "361/361 [==============================] - 1s 3ms/step\n",
      "361/361 [==============================] - 1s 4ms/step\n"
     ]
    },
    {
     "name": "stderr",
     "output_type": "stream",
     "text": [
      " 85%|███████████████████████████████████████████████████████████████████████████████████████████████████████████████████████████████████████████████▋                         | 51/60 [02:46<00:29,  3.27s/it]"
     ]
    },
    {
     "name": "stdout",
     "output_type": "stream",
     "text": [
      "\n",
      "The clean accuracy is:  89.17467740538669\n",
      "The attack success rate is:  80.73958603966398\n",
      "The pruned channel index is:  11\n",
      "361/361 [==============================] - 1s 4ms/step\n",
      "361/361 [==============================] - 1s 4ms/step\n"
     ]
    },
    {
     "name": "stderr",
     "output_type": "stream",
     "text": [
      " 87%|██████████████████████████████████████████████████████████████████████████████████████████████████████████████████████████████████████████████████▍                      | 52/60 [02:50<00:26,  3.32s/it]"
     ]
    },
    {
     "name": "stdout",
     "output_type": "stream",
     "text": [
      "\n",
      "The clean accuracy is:  84.43751623798389\n",
      "The attack success rate is:  77.015675067117\n",
      "The pruned channel index is:  54\n",
      "361/361 [==============================] - 1s 3ms/step\n",
      "361/361 [==============================] - 1s 4ms/step\n"
     ]
    },
    {
     "name": "stderr",
     "output_type": "stream",
     "text": [
      " 88%|█████████████████████████████████████████████████████████████████████████████████████████████████████████████████████████████████████████████████████▎                   | 53/60 [02:53<00:22,  3.25s/it]"
     ]
    },
    {
     "name": "stdout",
     "output_type": "stream",
     "text": [
      "\n",
      "The clean accuracy is:  76.48739932449988\n",
      "The attack success rate is:  35.71490430414826\n",
      "The pruned channel index is:  10\n",
      "361/361 [==============================] - 1s 4ms/step\n",
      "361/361 [==============================] - 1s 4ms/step\n"
     ]
    },
    {
     "name": "stderr",
     "output_type": "stream",
     "text": [
      " 90%|████████████████████████████████████████████████████████████████████████████████████████████████████████████████████████████████████████████████████████                 | 54/60 [02:56<00:19,  3.21s/it]"
     ]
    },
    {
     "name": "stdout",
     "output_type": "stream",
     "text": [
      "\n",
      "The clean accuracy is:  54.8627349095003\n",
      "The attack success rate is:  6.954187234779596\n",
      "The pruned channel index is:  28\n",
      "361/361 [==============================] - 1s 4ms/step\n",
      "The accuracy drops at least 2%, saved the model\n",
      "WARNING:tensorflow:Compiled the loaded model, but the compiled metrics have yet to be built. `model.compile_metrics` will be empty until you train or evaluate the model.\n",
      "The accuracy drops at least 4%, saved the model\n",
      "WARNING:tensorflow:Compiled the loaded model, but the compiled metrics have yet to be built. `model.compile_metrics` will be empty until you train or evaluate the model.\n",
      "The accuracy drops at least 10%, saved the model\n",
      "WARNING:tensorflow:Compiled the loaded model, but the compiled metrics have yet to be built. `model.compile_metrics` will be empty until you train or evaluate the model.\n"
     ]
    },
    {
     "name": "stderr",
     "output_type": "stream",
     "text": [
      "/Users/noelnebu/Downloads/myenv311/lib/python3.11/site-packages/keras/src/engine/training.py:3103: UserWarning: You are saving your model as an HDF5 file via `model.save()`. This file format is considered legacy. We recommend using instead the native Keras format, e.g. `model.save('my_model.keras')`.\n",
      "  saving_api.save_model(\n"
     ]
    },
    {
     "name": "stdout",
     "output_type": "stream",
     "text": [
      "361/361 [==============================] - 1s 4ms/step\n"
     ]
    },
    {
     "name": "stderr",
     "output_type": "stream",
     "text": [
      " 92%|██████████████████████████████████████████████████████████████████████████████████████████████████████████████████████████████████████████████████████████▉              | 55/60 [02:59<00:16,  3.31s/it]"
     ]
    },
    {
     "name": "stdout",
     "output_type": "stream",
     "text": [
      "\n",
      "The clean accuracy is:  27.08928726076037\n",
      "The attack success rate is:  0.4243526457088421\n",
      "The pruned channel index is:  35\n",
      "361/361 [==============================] - 1s 4ms/step\n",
      "361/361 [==============================] - 1s 4ms/step\n"
     ]
    },
    {
     "name": "stderr",
     "output_type": "stream",
     "text": [
      " 93%|█████████████████████████████████████████████████████████████████████████████████████████████████████████████████████████████████████████████████████████████▋           | 56/60 [03:02<00:13,  3.27s/it]"
     ]
    },
    {
     "name": "stdout",
     "output_type": "stream",
     "text": [
      "\n",
      "The clean accuracy is:  13.87373343725643\n",
      "The attack success rate is:  0.0\n",
      "The pruned channel index is:  18\n",
      "361/361 [==============================] - 1s 4ms/step\n",
      "361/361 [==============================] - 1s 4ms/step\n"
     ]
    },
    {
     "name": "stderr",
     "output_type": "stream",
     "text": [
      " 95%|████████████████████████████████████████████████████████████████████████████████████████████████████████████████████████████████████████████████████████████████▌        | 57/60 [03:06<00:09,  3.28s/it]"
     ]
    },
    {
     "name": "stdout",
     "output_type": "stream",
     "text": [
      "\n",
      "The clean accuracy is:  7.101411622066338\n",
      "The attack success rate is:  0.0\n",
      "The pruned channel index is:  4\n",
      "361/361 [==============================] - 1s 4ms/step\n",
      "361/361 [==============================] - 1s 4ms/step\n"
     ]
    },
    {
     "name": "stderr",
     "output_type": "stream",
     "text": [
      " 97%|███████████████████████████████████████████████████████████████████████████████████████████████████████████████████████████████████████████████████████████████████▎     | 58/60 [03:09<00:06,  3.39s/it]"
     ]
    },
    {
     "name": "stdout",
     "output_type": "stream",
     "text": [
      "\n",
      "The clean accuracy is:  1.5501861955486274\n",
      "The attack success rate is:  0.0\n",
      "The pruned channel index is:  7\n",
      "361/361 [==============================] - 1s 4ms/step\n",
      "361/361 [==============================] - 1s 4ms/step\n"
     ]
    },
    {
     "name": "stderr",
     "output_type": "stream",
     "text": [
      " 98%|██████████████████████████████████████████████████████████████████████████████████████████████████████████████████████████████████████████████████████████████████████▏  | 59/60 [03:13<00:03,  3.39s/it]"
     ]
    },
    {
     "name": "stdout",
     "output_type": "stream",
     "text": [
      "\n",
      "The clean accuracy is:  0.7188014202823244\n",
      "The attack success rate is:  0.0\n",
      "The pruned channel index is:  52\n",
      "361/361 [==============================] - 1s 4ms/step\n",
      "361/361 [==============================] - 1s 4ms/step\n"
     ]
    },
    {
     "name": "stderr",
     "output_type": "stream",
     "text": [
      "100%|█████████████████████████████████████████████████████████████████████████████████████████████████████████████████████████████████████████████████████████████████████████| 60/60 [03:16<00:00,  3.28s/it]"
     ]
    },
    {
     "name": "stdout",
     "output_type": "stream",
     "text": [
      "\n",
      "The clean accuracy is:  0.0779423226812159\n",
      "The attack success rate is:  0.0\n",
      "The pruned channel index is:  57\n"
     ]
    },
    {
     "name": "stderr",
     "output_type": "stream",
     "text": [
      "\n"
     ]
    }
   ],
   "source": [
    "clean_data_acc_before = 42.25339915129471 #original classification accuracy\n",
    "model_copy = keras.models.clone_model(model)\n",
    "model_copy.set_weights(model.get_weights()) \n",
    "prune_index = []\n",
    "clean_accuracy = [] #classification accuracy\n",
    "asrate = []   #attack success rate\n",
    "saved_model = np.zeros(3,dtype=bool)\n",
    "\n",
    "# getting the activation from the last pooling layer\n",
    "layer_output=model_copy.get_layer('pool_3').output\n",
    "intermediate_model=keras.models.Model(inputs=model_copy.input,outputs=layer_output)\n",
    "intermediate_prediction=intermediate_model.predict(cl_x_test)  \n",
    "temp = np.mean(intermediate_prediction,axis=(0,1,2))\n",
    "seq = np.argsort(temp)\n",
    "weight_0 = model_copy.layers[5].get_weights()[0]\n",
    "bias_0 = model_copy.layers[5].get_weights()[1]\n",
    "\n",
    "for channel_index in tqdm(seq): \n",
    "  weight_0[:,:,:,channel_index] = 0\n",
    "  bias_0[channel_index] = 0\n",
    "  model_copy.layers[5].set_weights([weight_0, bias_0])\n",
    "  cl_label_p = np.argmax(model_copy.predict(cl_x_test), axis=1)\n",
    "  clean_acc_after = np.mean(np.equal(cl_label_p, cl_y_test))*100   #classification accuracy expressed in terms of %\n",
    "  if (clean_data_acc_before-clean_acc_after >= 2 and not saved_model[0]): #difference >2%\n",
    "    print(\"The accuracy drops at least 2%, saved the model\")\n",
    "    model_copy.save('model_X_2.h5')\n",
    "    saved_model[0] = 1\n",
    "  if (clean_data_acc_before-clean_acc_after >= 4 and not saved_model[1]): #difference >4%\n",
    "    print(\"The accuracy drops at least 4%, saved the model\")\n",
    "    model_copy.save('model_X_4.h5')\n",
    "    saved_model[1] = 1\n",
    "  if (clean_data_acc_before-clean_acc_after >= 10 and not saved_model[2]): #difference >10%\n",
    "    print(\"The accuracy drops at least 10%, saved the model\")\n",
    "    model_copy.save('model_X_10.h5')\n",
    "    saved_model[2] = 1\n",
    "  clean_accuracy.append(clean_acc_after)\n",
    "  bd_label_p = np.argmax(model_copy.predict(bd_x_test), axis=1)\n",
    "  asr = np.mean(np.equal(bd_label_p, bd_y_test))*100\n",
    "  asrate.append(asr)\n",
    "  print()\n",
    "  print(\"The clean accuracy is: \",clean_acc_after)\n",
    "  print(\"The attack success rate is: \",asr)\n",
    "  print(\"The pruned channel index is: \",channel_index)\n",
    "  keras.backend.clear_session()\n",
    "# Adding error handling for data loading and prediction"
   ]
  },
  {
   "cell_type": "code",
   "execution_count": 15,
   "metadata": {
    "id": "o48NwLoTbntQ",
    "outputId": "bbf8c521-f610-4ee5-c814-32d744a7fa73"
   },
   "outputs": [
    {
     "name": "stdout",
     "output_type": "stream",
     "text": [
      "clean_accuracy:  [98.64899974019225, 98.64899974019225, 98.64899974019225, 98.64899974019225, 98.64899974019225, 98.64899974019225, 98.64899974019225, 98.64899974019225, 98.64899974019225, 98.64899974019225, 98.64899974019225, 98.64899974019225, 98.64899974019225, 98.64899974019225, 98.64899974019225, 98.64899974019225, 98.64899974019225, 98.64899974019225, 98.64899974019225, 98.64899974019225, 98.64899974019225, 98.64899974019225, 98.64899974019225, 98.64899974019225, 98.64899974019225, 98.64899974019225, 98.64899974019225, 98.64899974019225, 98.64899974019225, 98.64899974019225, 98.64899974019225, 98.64899974019225, 98.64899974019225, 98.64033948211657, 98.64033948211657, 98.63167922404088, 98.65765999826795, 98.64899974019225, 98.6056984498138, 98.57105741751104, 98.53641638520828, 98.19000606218066, 97.65307006148784, 97.50584567420108, 95.75647354291158, 95.20221702606739, 94.7172425738287, 92.09318437689443, 91.49562656967177, 91.01931237550879, 89.17467740538669, 84.43751623798389, 76.48739932449988, 54.8627349095003, 27.08928726076037, 13.87373343725643, 7.101411622066338, 1.5501861955486274, 0.7188014202823244, 0.0779423226812159]\n",
      "attack success rate:  [100.0, 100.0, 100.0, 100.0, 100.0, 100.0, 100.0, 100.0, 100.0, 100.0, 100.0, 100.0, 100.0, 100.0, 100.0, 100.0, 100.0, 100.0, 100.0, 100.0, 100.0, 100.0, 100.0, 100.0, 100.0, 100.0, 100.0, 100.0, 100.0, 100.0, 100.0, 100.0, 100.0, 100.0, 100.0, 100.0, 100.0, 100.0, 100.0, 100.0, 100.0, 100.0, 100.0, 100.0, 100.0, 99.9913397419243, 99.9913397419243, 99.9913397419243, 99.9913397419243, 99.98267948384861, 80.73958603966398, 77.015675067117, 35.71490430414826, 6.954187234779596, 0.4243526457088421, 0.0, 0.0, 0.0, 0.0, 0.0]\n"
     ]
    }
   ],
   "source": [
    "print(\"clean_accuracy: \", clean_accuracy)\n",
    "print(\"attack success rate: \", asrate)"
   ]
  },
  {
   "cell_type": "code",
   "execution_count": 16,
   "metadata": {
    "id": "DDEnIJbAbntQ",
    "outputId": "c220526e-4140-412f-92a9-e01731b1eb40"
   },
   "outputs": [
    {
     "data": {
      "text/plain": [
       "Text(0.5, 1.0, 'accuracy and attack success rate for validation dataset')"
      ]
     },
     "execution_count": 16,
     "metadata": {},
     "output_type": "execute_result"
    },
    {
     "data": {
      "image/png": "[encoded data removed]",
      "text/plain": [
       "<Figure size 640x480 with 1 Axes>"
      ]
     },
     "metadata": {},
     "output_type": "display_data"
    }
   ],
   "source": [
    "x_axis = np.arange(1,61)/60\n",
    "plt.plot(x_axis,clean_accuracy)\n",
    "plt.plot(x_axis,asrate)\n",
    "plt.legend(['accuracy on clean validation data','attack success rate'])\n",
    "plt.xlabel(\"fraction of pruned channels\")\n",
    "plt.ylabel(\"rate\")\n",
    "plt.title(\"accuracy and attack success rate for validation dataset\")"
   ]
  },
  {
   "cell_type": "markdown",
   "metadata": {
    "id": "jXOsO1BabntR"
   },
   "source": [
    "## Enhanced Section Description\n",
    "# Reporting attack success rate for X=30%"
   ]
  },
  {
   "cell_type": "code",
   "execution_count": 17,
   "metadata": {
    "id": "BdA0wMw0bntR",
    "outputId": "f350ee82-03ac-410c-fee8-7d8e9fad158c"
   },
   "outputs": [
    {
     "name": "stdout",
     "output_type": "stream",
     "text": [
      "The attack success rate when the accuracy drops at least 30% from original:  0.0\n"
     ]
    }
   ],
   "source": [
    "index = np.where(np.array(clean_accuracy) <= (clean_data_acc_before-30))[0]\n",
    "print(\"The attack success rate when the accuracy drops at least 30% from original: \", asrate[index[0]])"
   ]
  },
  {
   "cell_type": "markdown",
   "metadata": {
    "id": "lOFuOUw8bntR"
   },
   "source": [
    "## Enhanced Section Description\n",
    "# Combining original badnet B and new badnet B' (after accuracy drops below X%, here x= {2,4,10})"
   ]
  },
  {
   "cell_type": "code",
   "execution_count": 18,
   "metadata": {
    "id": "sEIYYWRHbntR"
   },
   "outputs": [],
   "source": [
    "class Good(keras.Model):\n",
    "  def __init__(self, Bad, Bad_prime):\n",
    "      super(Good, self).__init__()\n",
    "      self.Bad = Bad\n",
    "      self.Bad_prime = Bad_prime\n",
    "\n",
    "  def predict(self,data):\n",
    "      y = np.argmax(self.Bad(data), axis=1)\n",
    "      y_prime = np.argmax(self.Bad_prime(data), axis=1)\n",
    "      pred = np.zeros(data.shape[0])\n",
    "      for i in range(data.shape[0]):\n",
    "        if y[i]==y_prime[i]:\n",
    "          pred[i] = y[i]\n",
    "        else:\n",
    "          pred[i] = 1283\n",
    "      return pred\n",
    "# Adding error handling for data loading and prediction"
   ]
  },
  {
   "cell_type": "code",
   "execution_count": 19,
   "metadata": {
    "id": "e_Lo1IXybntS"
   },
   "outputs": [],
   "source": [
    "clean_test_data_path = 'test.h5'\n",
    "poisoned_test_data_path = 'bd_test.h5'\n",
    "test_model_X_2_path = 'model_X_2.h5'\n",
    "test_model_X_4_path = 'model_X_4.h5'\n",
    "test_model_X_10_path= 'model_X_10.h5'"
   ]
  },
  {
   "cell_type": "markdown",
   "metadata": {
    "id": "V2he26FcbntU"
   },
   "source": [
    "## Enhanced Section Description\n",
    "# specifying paths for saved models (with accuracy drops of 2%,4% and 10%)"
   ]
  },
  {
   "cell_type": "code",
   "execution_count": 20,
   "metadata": {
    "id": "vzuA7OZybntU",
    "outputId": "a5702c4f-1e26-4e5f-f425-c7815e8af8f6"
   },
   "outputs": [
    {
     "name": "stdout",
     "output_type": "stream",
     "text": [
      "WARNING:tensorflow:No training configuration found in the save file, so the model was *not* compiled. Compile it manually.\n",
      "WARNING:tensorflow:No training configuration found in the save file, so the model was *not* compiled. Compile it manually.\n",
      "WARNING:tensorflow:No training configuration found in the save file, so the model was *not* compiled. Compile it manually.\n"
     ]
    }
   ],
   "source": [
    "test_model_X_2 = keras.models.load_model(test_model_X_2_path)\n",
    "test_model_X_4 = keras.models.load_model(test_model_X_4_path)\n",
    "test_model_X_10 = keras.models.load_model(test_model_X_10_path)"
   ]
  },
  {
   "cell_type": "code",
   "execution_count": 21,
   "metadata": {
    "id": "j4Ws5kDnbntU"
   },
   "outputs": [],
   "source": [
    "x_test, y_test = data_loader(clean_test_data_path)\n",
    "x_test_poisoned, y_test_poisoned = data_loader(poisoned_test_data_path)"
   ]
  },
  {
   "cell_type": "markdown",
   "metadata": {
    "id": "UXw_NllobntU"
   },
   "source": [
    "## Enhanced Section Description\n",
    "# creating goodnet model G. If classification for both B and B' are same, the classification of G is also same, else it classifies to class 'n+1'"
   ]
  },
  {
   "cell_type": "code",
   "execution_count": 22,
   "metadata": {
    "id": "7GOhP2U4bntV"
   },
   "outputs": [],
   "source": [
    "Good_model_X_2 = Good(model, test_model_X_2)\n",
    "Good_model_X_4 = Good(model, test_model_X_4)\n",
    "Good_model_X_10 = Good(model, test_model_X_10)"
   ]
  },
  {
   "cell_type": "markdown",
   "metadata": {
    "id": "Gf57pRYMbntV"
   },
   "source": [
    "## Enhanced Section Description\n",
    "# evaluating the B' models"
   ]
  },
  {
   "cell_type": "code",
   "execution_count": 23,
   "metadata": {
    "id": "prxHkfZ1bntV",
    "outputId": "28294bd5-6ae3-484b-814b-4c9f62cc844b"
   },
   "outputs": [
    {
     "name": "stdout",
     "output_type": "stream",
     "text": [
      "401/401 [==============================] - 1s 4ms/step\n",
      "for model with 2% dropped , the clean test data Classification accuracy: 27.10054559625877\n",
      "401/401 [==============================] - 1s 3ms/step\n",
      "for model with 2% dropped , Attack Success Rate: 0.4208885424785659\n",
      "401/401 [==============================] - 1s 3ms/step\n",
      "for model with 4% dropped, the clean test data classification accuracy: 27.10054559625877\n",
      "401/401 [==============================] - 1s 4ms/step\n",
      "for model with 4% dropped, Attack Success Rate: 0.4208885424785659\n",
      "401/401 [==============================] - 1s 4ms/step\n",
      "for model with 10% dropped, the clean test data classification accuracy: 27.10054559625877\n",
      "401/401 [==============================] - 1s 3ms/step\n",
      "for model with 10% dropped, Attack Success Rate: 0.4208885424785659\n"
     ]
    }
   ],
   "source": [
    "clean_test_2_label_p = np.argmax(test_model_X_2.predict(x_test), axis=1)\n",
    "clean_test_2_accuracy = np.mean(np.equal(clean_test_2_label_p, y_test))*100\n",
    "print('for model with 2% dropped , the clean test data Classification accuracy:', clean_test_2_accuracy)\n",
    "\n",
    "bd_test_2_label_p = np.argmax(test_model_X_2.predict(x_test_poisoned), axis=1)\n",
    "asrate_2 = np.mean(np.equal(bd_test_2_label_p, y_test_poisoned))*100\n",
    "print('for model with 2% dropped , Attack Success Rate:', asrate_2)\n",
    "\n",
    "clean_test_4_label_p = np.argmax(test_model_X_4.predict(x_test), axis=1)\n",
    "clean_test_4_accuracy = np.mean(np.equal(clean_test_4_label_p, y_test))*100\n",
    "print('for model with 4% dropped, the clean test data classification accuracy:', clean_test_4_accuracy)\n",
    "\n",
    "bd_test_4_label_p = np.argmax(test_model_X_4.predict(x_test_poisoned), axis=1)\n",
    "asrate_4 = np.mean(np.equal(bd_test_4_label_p, y_test_poisoned))*100\n",
    "print('for model with 4% dropped, Attack Success Rate:', asrate_4)\n",
    "\n",
    "clean_test_10_label_p = np.argmax(test_model_X_10.predict(x_test), axis=1)\n",
    "clean_test_10_accuracy = np.mean(np.equal(clean_test_10_label_p, y_test))*100\n",
    "print('for model with 10% dropped, the clean test data classification accuracy:', clean_test_10_accuracy)\n",
    "\n",
    "bd_test_10_label_p = np.argmax(test_model_X_10.predict(x_test_poisoned), axis=1)\n",
    "asrate_10 = np.mean(np.equal(bd_test_10_label_p, y_test_poisoned))*100\n",
    "print('for model with 10% dropped, Attack Success Rate:', asrate_10)\n",
    "# Adding error handling for data loading and prediction"
   ]
  },
  {
   "cell_type": "code",
   "execution_count": 24,
   "metadata": {
    "id": "2OBwsYO8bntV",
    "outputId": "b0d5f8cb-5b2a-4c7e-ecb3-949050062cee"
   },
   "outputs": [
    {
     "data": {
      "image/png": "[encoded data removed]",
      "text/plain": [
       "<Figure size 640x480 with 1 Axes>"
      ]
     },
     "metadata": {},
     "output_type": "display_data"
    }
   ],
   "source": [
    "test_accuracy = [clean_test_2_accuracy, clean_test_4_accuracy, clean_test_10_accuracy]\n",
    "attack_success_rates = [asrate_2, asrate_4, asrate_10]\n",
    "\n",
    "opacity = 1\n",
    "bar_width = 0.25\n",
    "\n",
    "plt.xlabel('model with % accuracy drop')\n",
    "plt.ylabel('different rates')\n",
    "\n",
    "plt.xticks(range(len(test_accuracy)),('2%', '4%', '10%'))\n",
    "bar1 = plt.bar(np.arange(len(test_accuracy)) + bar_width, test_accuracy, bar_width, align='center', alpha=opacity, color='b', label='classification accuracy')\n",
    "bar2 = plt.bar(range(len(attack_success_rates)), attack_success_rates, bar_width, align='center', alpha=opacity, color='y', label='attack success')\n",
    "\n",
    "# Add counts above the two bar graphs\n",
    "for rect in bar1 + bar2:\n",
    "    height = rect.get_height()\n",
    "    plt.text(rect.get_x() + rect.get_width() / 2.0, height, f'{height:.02f}', ha='center', va='bottom')\n",
    "\n",
    "plt.legend(bbox_to_anchor=(1.4, 1))\n",
    "plt.tight_layout()\n",
    "plt.title('performance of repaired model')\n",
    "\n",
    "plt.show()"
   ]
  },
  {
   "cell_type": "markdown",
   "metadata": {
    "id": "VqfWVJQQbntW"
   },
   "source": [
    "## Enhanced Section Description\n",
    "# evaluating G model. I calculated accuracy of this model based on whether the classification of the model and the other models are the same"
   ]
  },
  {
   "cell_type": "code",
   "execution_count": 25,
   "metadata": {
    "id": "tghbGTl4bntW",
    "outputId": "b5636d99-934e-4c56-a76c-2500d06390d0"
   },
   "outputs": [
    {
     "name": "stdout",
     "output_type": "stream",
     "text": [
      "Combined model with 2% dropped acc, the clean test data classification accuracy: 27.10054559625877\n",
      "Combined model with 2% dropped acc, attack success Rate: 0.4208885424785659\n",
      "Combined model with 4% dropped acc, the clean test data classification accuracy: 27.10054559625877\n",
      "Combined model with 4% dropped acc, attack success Rate: 0.4208885424785659\n",
      "Combined model with 10% dropped acc, the clean test data classification accuracy: 27.10054559625877\n",
      "Combined model with 10% dropped acc, Attack Success Rate: 0.4208885424785659\n"
     ]
    }
   ],
   "source": [
    "Good_clean_test_2_label_p = Good_model_X_2.predict(x_test)\n",
    "Good_clean_test_2_accuracy = np.mean(np.equal(clean_test_2_label_p, y_test))*100\n",
    "print('Combined model with 2% dropped acc, the clean test data classification accuracy:', Good_clean_test_2_accuracy)\n",
    "\n",
    "Good_bd_test_2_label_p = Good_model_X_2.predict(x_test_poisoned)\n",
    "Good_model_asrate_2 = np.mean(np.equal(bd_test_2_label_p, y_test_poisoned))*100\n",
    "print('Combined model with 2% dropped acc, attack success Rate:', Good_model_asrate_2)\n",
    "\n",
    "Good_clean_test_4_label_p = Good_model_X_4.predict(x_test)\n",
    "Good_clean_test_4_accuracy = np.mean(np.equal(clean_test_4_label_p, y_test))*100\n",
    "print('Combined model with 4% dropped acc, the clean test data classification accuracy:', Good_clean_test_4_accuracy)\n",
    "\n",
    "Good_bd_test_4_label_p = Good_model_X_4.predict(x_test_poisoned)\n",
    "Good_model_asrate_4 = np.mean(np.equal(bd_test_4_label_p, y_test_poisoned))*100\n",
    "print('Combined model with 4% dropped acc, attack success Rate:', Good_model_asrate_4)\n",
    "\n",
    "Good_clean_test_10_label_p = Good_model_X_10.predict(x_test)\n",
    "Good_clean_test_10_accuracy = np.mean(np.equal(clean_test_10_label_p, y_test))*100\n",
    "print('Combined model with 10% dropped acc, the clean test data classification accuracy:', Good_clean_test_10_accuracy)\n",
    "\n",
    "Good_bd_test_10_label_p = Good_model_X_10.predict(x_test_poisoned)\n",
    "Good_model_asrate_10 = np.mean(np.equal(bd_test_10_label_p, y_test_poisoned))*100\n",
    "print('Combined model with 10% dropped acc, Attack Success Rate:', Good_model_asrate_10)\n",
    "# Adding error handling for data loading and prediction"
   ]
  },
  {
   "cell_type": "markdown",
   "metadata": {
    "id": "yM-gW-eRbntW"
   },
   "source": [
    "## Enhanced Section Description\n",
    "# We see that pruning defense doesn't work very well for this model as the pruned model is not retrained with poisoned data."
   ]
  },
  {
   "cell_type": "code",
   "execution_count": 26,
   "metadata": {
    "id": "HrEhU4iXbntW",
    "outputId": "f168fa1b-f1cd-4d60-edfa-d28098ae72f8"
   },
   "outputs": [
    {
     "data": {
      "image/png": "[encoded data removed]",
      "text/plain": [
       "<Figure size 640x480 with 1 Axes>"
      ]
     },
     "metadata": {},
     "output_type": "display_data"
    }
   ],
   "source": [
    "good_model_test_accuracy= [Good_clean_test_2_accuracy, Good_clean_test_4_accuracy, Good_clean_test_10_accuracy]\n",
    "Good_model_attack_success_rate = [Good_model_asrate_2, Good_model_asrate_4, Good_model_asrate_10]\n",
    "\n",
    "opacity = 1\n",
    "bar_width = 0.25\n",
    "\n",
    "plt.xlabel('combined model with % accuracy drop')\n",
    "plt.ylabel('different rates')\n",
    "\n",
    "plt.xticks(range(len(good_model_test_accuracy)),('2%', '4%', '10%'))\n",
    "bar1 = plt.bar(np.arange(len(good_model_test_accuracy)) + bar_width, good_model_test_accuracy, bar_width, align='center', alpha=opacity, color='b', label='classification accuracy')\n",
    "bar2 = plt.bar(range(len(Good_model_attack_success_rate)),Good_model_attack_success_rate, bar_width, align='center', alpha=opacity, color='y', label='attack success rate')\n",
    "\n",
    "for rect in bar1 + bar2:\n",
    "    height = rect.get_height()\n",
    "    plt.text(rect.get_x() + rect.get_width() / 2.0, height, f'{height:.02f}', ha='center', va='bottom')\n",
    "\n",
    "plt.legend(bbox_to_anchor=(1.4, 1))\n",
    "plt.tight_layout()\n",
    "plt.title('performance of goodnet G model')\n",
    "\n",
    "plt.show()"
   ]
  },
  {
   "cell_type": "code",
   "execution_count": null,
   "metadata": {},
   "outputs": [],
   "source": []
  },
  {
   "cell_type": "code",
   "execution_count": null,
   "metadata": {},
   "outputs": [],
   "source": []
  }
 ],
 "metadata": {
  "colab": {
   "name": "Untitled4 (1).ipynb",
   "provenance": []
  },
  "kernelspec": {
   "display_name": "Python 3 (ipykernel)",
   "language": "python",
   "name": "python3"
  },
  "language_info": {
   "codemirror_mode": {
    "name": "ipython",
    "version": 3
   },
   "file_extension": ".py",
   "mimetype": "text/x-python",
   "name": "python",
   "nbconvert_exporter": "python",
   "pygments_lexer": "ipython3",
   "version": "3.11.6"
  }
 },
 "nbformat": 4,
 "nbformat_minor": 4
}
